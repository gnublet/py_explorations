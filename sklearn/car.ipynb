{
 "cells": [
  {
   "cell_type": "code",
   "execution_count": 67,
   "metadata": {
    "collapsed": true
   },
   "outputs": [],
   "source": [
    "#import libraries\n",
    "from sklearn import preprocessing\n",
    "from sklearn.ensemble import RandomForestClassifier\n",
    "import numpy as np"
   ]
  },
  {
   "cell_type": "code",
   "execution_count": 68,
   "metadata": {
    "collapsed": false
   },
   "outputs": [],
   "source": [
    "#load data\n",
    "input_file = 'car.data.txt'\n",
    "#read data (.txt)\n",
    "X = []\n",
    "count = 0\n",
    "with open(input_file, 'r') as f:\n",
    "    for line in f.readlines():\n",
    "        data = line[:-1].split(',')\n",
    "        X.append(data)\n",
    "        \n",
    "X = np.array(X)\n",
    "        "
   ]
  },
  {
   "cell_type": "code",
   "execution_count": 69,
   "metadata": {
    "collapsed": false
   },
   "outputs": [
    {
     "name": "stdout",
     "output_type": "stream",
     "text": [
      "['vhigh' 'vhigh' '2' '2' 'small' 'low' 'unacc']\n",
      "[(0, 'vhigh'), (1, 'vhigh'), (2, '2'), (3, '2'), (4, 'small'), (5, 'low'), (6, 'unacc')]\n",
      "2\n",
      "(1728, 7)\n"
     ]
    }
   ],
   "source": [
    "print(X[0])\n",
    "print(list(enumerate(X[0])))\n",
    "print(X[0][2])\n",
    "print(X.shape)"
   ]
  },
  {
   "cell_type": "code",
   "execution_count": 70,
   "metadata": {
    "collapsed": false
   },
   "outputs": [
    {
     "name": "stdout",
     "output_type": "stream",
     "text": [
      "class labels:  ['acc' 'good' 'unacc' 'vgood']\n"
     ]
    }
   ],
   "source": [
    "#transform strings to numerical data using label encoding\n",
    "label_encoder = []\n",
    "X_encoded = np.empty(X.shape)\n",
    "for i,item in enumerate(X[0]):#enumerate obj yields pairs (i, X[0][i])\n",
    "    label_encoder.append(preprocessing.LabelEncoder())#list of 6 LabelEncoder() s\n",
    "    X_encoded[:,i] = label_encoder[-1].fit_transform(X[:,i])#transform columns at a time\n",
    "    #the above use different encoders for each attribute\n",
    "    \n",
    "X = X_encoded[:,:-1].astype(int)\n",
    "y = X_encoded[:,-1].astype(int)\n",
    "print(\"class labels: \",label_encoder[-1].classes_)"
   ]
  },
  {
   "cell_type": "code",
   "execution_count": 71,
   "metadata": {
    "collapsed": false
   },
   "outputs": [
    {
     "data": {
      "text/plain": [
       "'\\nprint(label_encoder[-1].classes_)\\nprint(label_encoder[-1].fit_transform(X[0]))\\nprint(label_encoder[-1].inverse_transform([4,4,0,0,2,1,3]))\\n'"
      ]
     },
     "execution_count": 71,
     "metadata": {},
     "output_type": "execute_result"
    }
   ],
   "source": [
    "\"\"\"\n",
    "print(label_encoder[-1].classes_)\n",
    "print(label_encoder[-1].fit_transform(X[0]))\n",
    "print(label_encoder[-1].inverse_transform([4,4,0,0,2,1,3]))\n",
    "\"\"\""
   ]
  },
  {
   "cell_type": "code",
   "execution_count": 72,
   "metadata": {
    "collapsed": false
   },
   "outputs": [
    {
     "data": {
      "text/plain": [
       "RandomForestClassifier(bootstrap=True, class_weight=None, criterion='gini',\n",
       "            max_depth=8, max_features='auto', max_leaf_nodes=None,\n",
       "            min_impurity_split=1e-07, min_samples_leaf=1,\n",
       "            min_samples_split=2, min_weight_fraction_leaf=0.0,\n",
       "            n_estimators=200, n_jobs=1, oob_score=False, random_state=7,\n",
       "            verbose=0, warm_start=False)"
      ]
     },
     "execution_count": 72,
     "metadata": {},
     "output_type": "execute_result"
    }
   ],
   "source": [
    "#Random Forest classifier\n",
    "params = {'n_estimators': 200, 'max_depth':8, 'random_state': 7}\n",
    "clf = RandomForestClassifier(**params)#* pass tuple, ** pass dictionary\n",
    "clf.fit(X,y)"
   ]
  },
  {
   "cell_type": "code",
   "execution_count": 73,
   "metadata": {
    "collapsed": false
   },
   "outputs": [],
   "source": [
    "#cross validation (depricated)\n",
    "#from sklearn import cross_validation\n",
    "#accuracy = cross_validation.cross_val_score(clf, X,y, scoring = 'accuracy', cv = 3)\n",
    "#print(\"Accuracy of classifier: \" + str(round(100*accuracy.mean(), 2)) + \"%\")"
   ]
  },
  {
   "cell_type": "code",
   "execution_count": 74,
   "metadata": {
    "collapsed": false
   },
   "outputs": [
    {
     "name": "stdout",
     "output_type": "stream",
     "text": [
      "Accuracy of classifier:78.19%\n"
     ]
    }
   ],
   "source": [
    "#updated cv\n",
    "from sklearn.model_selection import cross_val_score\n",
    "accuracy = cross_val_score(clf, X,y, scoring = 'accuracy', cv = 3)\n",
    "print(\"Accuracy of classifier:\" + str(round(100*accuracy.mean(), 2))+\"%\")"
   ]
  },
  {
   "cell_type": "code",
   "execution_count": 75,
   "metadata": {
    "collapsed": false
   },
   "outputs": [
    {
     "name": "stdout",
     "output_type": "stream",
     "text": [
      "['vhigh', 'vhigh', '2', '2', 'small', 'low']\n",
      "[-1, -1, -1, -1, -1, -1]\n",
      "[3 3 0 0 2 1]\n"
     ]
    }
   ],
   "source": [
    "#test on single instance\n",
    "input_data = ['vhigh', 'vhigh', '2','2','small','low']\n",
    "input_data_encoded = [-1]*len(input_data)\n",
    "print(input_data)\n",
    "print(input_data_encoded)\n",
    "for i, item in enumerate(input_data):\n",
    "    input_data_encoded[i] = int(label_encoder[i].transform([input_data[i]]))\n",
    "input_data_encoded = np.array(input_data_encoded)\n",
    "\n",
    "print(input_data_encoded)"
   ]
  },
  {
   "cell_type": "code",
   "execution_count": 76,
   "metadata": {
    "collapsed": false
   },
   "outputs": [
    {
     "name": "stdout",
     "output_type": "stream",
     "text": [
      "Output class:  ['unacc']\n"
     ]
    }
   ],
   "source": [
    "#predict output for this datapoint\n",
    "output_class = clf.predict(input_data_encoded.reshape(1,-1))\n",
    "#deprication warning if pass 1d array as data, so we need to \n",
    "#reshape X.reshape(-1,1) for single feature or X.reshape(1,-1) for single sample.\n",
    "#we chose the later\n",
    "print(\"Output class: \", label_encoder[-1].inverse_transform(output_class))"
   ]
  },
  {
   "cell_type": "code",
   "execution_count": 93,
   "metadata": {
    "collapsed": false
   },
   "outputs": [
    {
     "name": "stdout",
     "output_type": "stream",
     "text": [
      "###validation curves####\n",
      "param: n_estimators\n",
      "Training scores:\n",
      " [[ 0.80680174  0.80824891  0.80752533  0.80463097  0.81358382]\n",
      " [ 0.79522431  0.80535456  0.81041968  0.8089725   0.81069364]\n",
      " [ 0.80101302  0.80680174  0.81114327  0.81476122  0.8150289 ]\n",
      " [ 0.8024602   0.80535456  0.81186686  0.80752533  0.80346821]\n",
      " [ 0.80028944  0.80463097  0.81114327  0.80824891  0.81069364]\n",
      " [ 0.80390738  0.80535456  0.81041968  0.80969609  0.81647399]\n",
      " [ 0.80390738  0.80463097  0.81114327  0.81476122  0.81719653]\n",
      " [ 0.80390738  0.80607815  0.81114327  0.81403763  0.81647399]]\n",
      "param: n_estimators\n",
      "Validation scores:\n",
      " [[ 0.71098266  0.76589595  0.72543353  0.76300578  0.75290698]\n",
      " [ 0.71098266  0.75433526  0.71965318  0.75722543  0.74127907]\n",
      " [ 0.71098266  0.72254335  0.71965318  0.75722543  0.74418605]\n",
      " [ 0.71098266  0.71387283  0.71965318  0.75722543  0.72674419]\n",
      " [ 0.71098266  0.74277457  0.71965318  0.75722543  0.74127907]\n",
      " [ 0.71098266  0.74277457  0.71965318  0.75722543  0.74127907]\n",
      " [ 0.71098266  0.74566474  0.71965318  0.75722543  0.74418605]\n",
      " [ 0.71098266  0.75144509  0.71965318  0.75722543  0.74127907]]\n"
     ]
    }
   ],
   "source": [
    "#Validation curves:\n",
    "#useful for determining hyperparameters:  n_estimators and max_depth?\n",
    "#how does each hyperparameter influence the training score when all other params fixed\n",
    "from sklearn.model_selection import validation_curve\n",
    "#sklearn.learning_curve is depricated\n",
    "clf = RandomForestClassifier(max_depth = 4, random_state = 7)\n",
    "parameter_grid = np.linspace(25,200,8).astype(int)#n_estimators\n",
    "train_scores, validation_scores = validation_curve(clf, X,y, 'n_estimators', parameter_grid, cv=5)\n",
    "#shape: (n_ticks, n_cvfolds)\n",
    "print('###training and validation curves####')\n",
    "print('param: n_estimators\\nTraining scores:\\n', train_scores)\n",
    "print('param: n_estimators\\nValidation scores:\\n', validation_scores)"
   ]
  },
  {
   "cell_type": "code",
   "execution_count": 94,
   "metadata": {
    "collapsed": false
   },
   "outputs": [
    {
     "data": {
      "image/png": "[encoded data removed]",
      "text/plain": [
       "<matplotlib.figure.Figure at 0x7fb4563a8e10>"
      ]
     },
     "metadata": {},
     "output_type": "display_data"
    },
    {
     "data": {
      "image/png": "[encoded data removed]",
      "text/plain": [
       "<matplotlib.figure.Figure at 0x7fb45627eda0>"
      ]
     },
     "metadata": {},
     "output_type": "display_data"
    }
   ],
   "source": [
    "#plot training curve and validation curve for n_estimators\n",
    "%matplotlib inline\n",
    "\n",
    "import matplotlib\n",
    "import numpy as np\n",
    "import matplotlib.pyplot as plt\n",
    "\n",
    "plt.figure()\n",
    "plt.plot(parameter_grid, 100*np.average(train_scores, axis = 1), color = 'black')\n",
    "#axis = 1: average over columns so each row has 1 average.\n",
    "#Each n_estimator has a correspoding average score\n",
    "plt.title('Training curve')\n",
    "plt.xlabel('n_estimators')\n",
    "plt.ylabel('Accuracy')\n",
    "plt.show()\n",
    "\n",
    "plt.figure()\n",
    "plt.plot(parameter_grid, 100*np.average(validation_scores, axis = 1), color = 'black')\n",
    "\n",
    "plt.plot(parameter_grid, 100*np.average(train_scores, axis = 1), color = 'red')#for comparison\n",
    "#axis = 1: average over columns so each row has 1 average.\n",
    "#Each n_estimator has a correspoding average score\n",
    "plt.title('Validation curve')\n",
    "plt.xlabel('n_estimators')\n",
    "plt.ylabel('Accuracy')\n",
    "plt.show()"
   ]
  },
  {
   "cell_type": "code",
   "execution_count": 96,
   "metadata": {
    "collapsed": false
   },
   "outputs": [
    {
     "name": "stdout",
     "output_type": "stream",
     "text": [
      "###validation curves####\n",
      "param: max_depth\n",
      "Training scores:\n",
      " [[ 0.71852388  0.70043415  0.70043415  0.70043415  0.69942197]\n",
      " [ 0.80607815  0.80535456  0.80752533  0.79450072  0.81069364]\n",
      " [ 0.90665702  0.91027496  0.92836469  0.89797395  0.90679191]\n",
      " [ 0.97467438  0.96743849  0.96888567  0.97829233  0.96820809]\n",
      " [ 0.99421129  0.99710564  0.99782923  0.99855282  0.99277457]]\n",
      "param: max_depth\n",
      "Validation scores:\n",
      " [[ 0.71098266  0.76589595  0.72543353  0.76300578  0.75290698]\n",
      " [ 0.71098266  0.75433526  0.71965318  0.75722543  0.74127907]\n",
      " [ 0.71098266  0.72254335  0.71965318  0.75722543  0.74418605]\n",
      " [ 0.71098266  0.71387283  0.71965318  0.75722543  0.72674419]\n",
      " [ 0.71098266  0.74277457  0.71965318  0.75722543  0.74127907]\n",
      " [ 0.71098266  0.74277457  0.71965318  0.75722543  0.74127907]\n",
      " [ 0.71098266  0.74566474  0.71965318  0.75722543  0.74418605]\n",
      " [ 0.71098266  0.75144509  0.71965318  0.75722543  0.74127907]]\n"
     ]
    }
   ],
   "source": [
    "#same with max_depth param\n",
    "clf = RandomForestClassifier(n_estimators=20, random_state= 7)\n",
    "parameter_grid = np.linspace(2,10,5).astype(int)\n",
    "train_scores, valid_scores = validation_curve(clf, X,y,\"max_depth\", parameter_grid, cv=5)\n",
    "print('###validation curves####')\n",
    "print('param: max_depth\\nTraining scores:\\n', train_scores)\n",
    "print('param: max_depth\\nValidation scores:\\n', validation_scores)"
   ]
  },
  {
   "cell_type": "code",
   "execution_count": 98,
   "metadata": {
    "collapsed": false
   },
   "outputs": [
    {
     "data": {
      "image/png": "[encoded data removed]",
      "text/plain": [
       "<matplotlib.figure.Figure at 0x7fb456963630>"
      ]
     },
     "metadata": {},
     "output_type": "display_data"
    },
    {
     "data": {
      "image/png": "[encoded data removed]",
      "text/plain": [
       "<matplotlib.figure.Figure at 0x7fb4561bdda0>"
      ]
     },
     "metadata": {},
     "output_type": "display_data"
    }
   ],
   "source": [
    "#plot training curve for max_depth\n",
    "plt.figure()\n",
    "plt.plot(parameter_grid, 100*np.average(train_scores, axis = 1), color = 'black')\n",
    "plt.title('Training curve')\n",
    "plt.xlabel('Max depth of tree'),\n",
    "plt.ylabel('Accuracy')\n",
    "plt.show()\n",
    "#plot validation curve for max_depth\n",
    "plt.figure()\n",
    "plt.plot(parameter_grid, 100*np.average(valid_scores, axis = 1), color = 'black')\n",
    "plt.plot(parameter_grid, 100*np.average(train_scores, axis = 1), color = 'red')#for comparison\n",
    "plt.title('Validation curve')\n",
    "plt.xlabel('Max depth of tree'),\n",
    "plt.ylabel('Accuracy')\n",
    "plt.show()\n",
    "\n"
   ]
  },
  {
   "cell_type": "code",
   "execution_count": null,
   "metadata": {
    "collapsed": true
   },
   "outputs": [],
   "source": [
    "#overfitting for large max_depth"
   ]
  },
  {
   "cell_type": "code",
   "execution_count": 108,
   "metadata": {
    "collapsed": false
   },
   "outputs": [
    {
     "name": "stdout",
     "output_type": "stream",
     "text": [
      "\n",
      "###Learning Curves####\n",
      "\n",
      "Training scores: \n",
      " [[ 1.       1.       1.       1.       1.     ]\n",
      " [ 1.       1.       0.998    0.998    0.998  ]\n",
      " [ 0.99875  0.9975   0.99875  0.99875  0.99875]\n",
      " [ 0.997    0.999    0.999    0.999    0.998  ]]\n",
      "\n",
      "Validation scores: \n",
      " [[ 0.69942197  0.69942197  0.69942197  0.69942197  0.70348837]\n",
      " [ 0.74855491  0.65028902  0.76878613  0.76589595  0.70348837]\n",
      " [ 0.70520231  0.78612717  0.52312139  0.76878613  0.77034884]\n",
      " [ 0.5982659   0.76589595  0.55780347  0.75144509  0.76744186]]\n"
     ]
    }
   ],
   "source": [
    "#learning curves: how does size of training set influence model?\n",
    "from sklearn.model_selection import learning_curve\n",
    "clf = RandomForestClassifier(random_state = 7)\n",
    "parameter_grid = np.array([200,500,800,1000])\n",
    "train_sizes ,train_scores, validation_scores = learning_curve(clf, X,y,train_sizes = parameter_grid, cv = 5)\n",
    "print('\\n###Learning Curves####')\n",
    "print('\\nTraining scores: \\n',train_scores)\n",
    "print('\\nValidation scores: \\n', validation_scores)"
   ]
  },
  {
   "cell_type": "code",
   "execution_count": 109,
   "metadata": {
    "collapsed": false
   },
   "outputs": [
    {
     "data": {
      "image/png": "[encoded data removed]",
      "text/plain": [
       "<matplotlib.figure.Figure at 0x7fb45608ba58>"
      ]
     },
     "metadata": {},
     "output_type": "display_data"
    },
    {
     "data": {
      "image/png": "[encoded data removed]",
      "text/plain": [
       "<matplotlib.figure.Figure at 0x7fb456062dd8>"
      ]
     },
     "metadata": {},
     "output_type": "display_data"
    }
   ],
   "source": [
    "#plot learning curve (training):\n",
    "plt.figure()\n",
    "plt.plot(parameter_grid, 100*np.average(train_scores, axis = 1), color = 'red')\n",
    "#plt.plot(parameter_grid, 100*np.average(validation_scores, axis = 1), color = 'green')\n",
    "\n",
    "plt.title('Learning Curve')\n",
    "plt.xlabel('Number of training samples')\n",
    "plt.ylabel('Accuracy')\n",
    "plt.show()\n",
    "#plot learning curve (validation (cross-validation)):\n",
    "plt.figure()\n",
    "#plt.plot(parameter_grid, 100*np.average(train_scores, axis = 1), color = 'black')\n",
    "plt.plot(parameter_grid, 100*np.average(validation_scores, axis = 1), color = 'green')\n",
    "plt.title('Learning Curve')\n",
    "plt.xlabel('Number of training samples')\n",
    "plt.ylabel('Accuracy')\n",
    "plt.show()"
   ]
  },
  {
   "cell_type": "code",
   "execution_count": null,
   "metadata": {
    "collapsed": true
   },
   "outputs": [],
   "source": [
    "#although smaller training sets give better accuracy, they are more prone to overfitting"
   ]
  },
  {
   "cell_type": "code",
   "execution_count": null,
   "metadata": {
    "collapsed": true
   },
   "outputs": [],
   "source": []
  },
  {
   "cell_type": "code",
   "execution_count": null,
   "metadata": {
    "collapsed": true
   },
   "outputs": [],
   "source": []
  },
  {
   "cell_type": "code",
   "execution_count": null,
   "metadata": {
    "collapsed": true
   },
   "outputs": [],
   "source": []
  },
  {
   "cell_type": "code",
   "execution_count": null,
   "metadata": {
    "collapsed": true
   },
   "outputs": [],
   "source": []
  }
 ],
 "metadata": {
  "kernelspec": {
   "display_name": "Python [Root]",
   "language": "python",
   "name": "Python [Root]"
  },
  "language_info": {
   "codemirror_mode": {
    "name": "ipython",
    "version": 3
   },
   "file_extension": ".py",
   "mimetype": "text/x-python",
   "name": "python",
   "nbconvert_exporter": "python",
   "pygments_lexer": "ipython3",
   "version": "3.5.2"
  }
 },
 "nbformat": 4,
 "nbformat_minor": 0
}

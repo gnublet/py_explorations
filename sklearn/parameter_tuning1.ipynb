{
 "cells": [
  {
   "cell_type": "markdown",
   "metadata": {},
   "source": [
    "## parameter tuning on the digits dataset"
   ]
  },
  {
   "cell_type": "markdown",
   "metadata": {},
   "source": [
    "Based on the tutorial on the scikit learn website"
   ]
  },
  {
   "cell_type": "code",
   "execution_count": 45,
   "metadata": {
    "collapsed": false
   },
   "outputs": [
    {
     "name": "stdout",
     "output_type": "stream",
     "text": [
      "Automatically created module for IPython interactive environment\n"
     ]
    }
   ],
   "source": [
    "from __future__ import print_function\n",
    "\n",
    "from sklearn import datasets\n",
    "from sklearn.model_selection import train_test_split\n",
    "from sklearn.model_selection import GridSearchCV\n",
    "from sklearn.metrics import classification_report\n",
    "from sklearn.svm import SVC\n",
    "\n",
    "print(__doc__)\n",
    "\n",
    "# Loading the Digits dataset\n",
    "digits = datasets.load_digits()\n"
   ]
  },
  {
   "cell_type": "code",
   "execution_count": 46,
   "metadata": {
    "collapsed": false
   },
   "outputs": [
    {
     "data": {
      "text/plain": [
       "(1797, 8, 8)"
      ]
     },
     "execution_count": 46,
     "metadata": {},
     "output_type": "execute_result"
    }
   ],
   "source": [
    "digits.images.shape#1797 data points each of 8*8 images"
   ]
  },
  {
   "cell_type": "code",
   "execution_count": 47,
   "metadata": {
    "collapsed": false
   },
   "outputs": [
    {
     "name": "stdout",
     "output_type": "stream",
     "text": [
      "n_samples =  1797\n"
     ]
    }
   ],
   "source": [
    "n_samples = len(digits.images)\n",
    "print('n_samples = ',n_samples)"
   ]
  },
  {
   "cell_type": "code",
   "execution_count": 48,
   "metadata": {
    "collapsed": false
   },
   "outputs": [
    {
     "name": "stdout",
     "output_type": "stream",
     "text": [
      "X.shape =  (1797, 64)\n"
     ]
    }
   ],
   "source": [
    "#need to flatten image so that data is (samples, features) matrix to apply sklearn classifier\n",
    "X = digits.images.reshape((len(digits.images), -1))\n",
    "print('X.shape = ',X.shape)"
   ]
  },
  {
   "cell_type": "code",
   "execution_count": 50,
   "metadata": {
    "collapsed": false
   },
   "outputs": [],
   "source": [
    "import numpy as np"
   ]
  },
  {
   "cell_type": "code",
   "execution_count": 51,
   "metadata": {
    "collapsed": false
   },
   "outputs": [
    {
     "name": "stdout",
     "output_type": "stream",
     "text": [
      "y.shape =  (1797,)\n"
     ]
    }
   ],
   "source": [
    "y = digits.target\n",
    "print(\"y.shape = \", y.shape)"
   ]
  },
  {
   "cell_type": "code",
   "execution_count": 55,
   "metadata": {
    "collapsed": false
   },
   "outputs": [
    {
     "name": "stdout",
     "output_type": "stream",
     "text": [
      "X_train.shape = (898, 64), X_test.shape = (899, 64), y_train.shape = (898,), y_test.shape = (899,)\n"
     ]
    }
   ],
   "source": [
    "#split data into training and test sets\n",
    "X_train, X_test, y_train, y_test = train_test_split(\n",
    "X,y,test_size=.5, random_state=0)\n",
    "print('X_train.shape = {}, X_test.shape = {}, y_train.shape = {}, y_test.shape = {}'.format(X_train.shape, X_test.shape, y_train.shape, y_test.shape))"
   ]
  },
  {
   "cell_type": "code",
   "execution_count": 56,
   "metadata": {
    "collapsed": false
   },
   "outputs": [],
   "source": [
    "#set the parameters of cross validation\n",
    "tuned_parameters = [{'kernel': ['rbf'], 'gamma': [1e-3, 1e-4], \n",
    "                    'C': [1, 10 ,100, 1000]}, {'kernel': ['linear'], 'C': [1,10,100,1000]}]"
   ]
  },
  {
   "cell_type": "code",
   "execution_count": 57,
   "metadata": {
    "collapsed": false
   },
   "outputs": [],
   "source": [
    "scores = ['precision', 'recall']\n",
    "#precision: ability of the classifier not to label as positive a sample that is negative\n",
    "#or how many selected items are relevant\n",
    "#tp/(tp + fp)\n",
    "#recall: ability to find all positive samples.\n",
    "#or how many releveant items are selected\n",
    "#tp/(tp + fn)"
   ]
  },
  {
   "cell_type": "code",
   "execution_count": 58,
   "metadata": {
    "collapsed": false
   },
   "outputs": [
    {
     "name": "stdout",
     "output_type": "stream",
     "text": [
      "#Tuning hyper-parameters for precision\n",
      "\n",
      "Best parameter set found on dev set:\n",
      "{'C': 10, 'kernel': 'rbf', 'gamma': 0.001} \n",
      "\n",
      "Grid scores on dev set: \n",
      "\n",
      "0.986 (+/-0.016) for {'C': 1, 'kernel': 'rbf', 'gamma': 0.001}\n",
      "0.959 (+/-0.029) for {'C': 1, 'kernel': 'rbf', 'gamma': 0.0001}\n",
      "0.988 (+/-0.017) for {'C': 10, 'kernel': 'rbf', 'gamma': 0.001}\n",
      "0.982 (+/-0.026) for {'C': 10, 'kernel': 'rbf', 'gamma': 0.0001}\n",
      "0.988 (+/-0.017) for {'C': 100, 'kernel': 'rbf', 'gamma': 0.001}\n",
      "0.982 (+/-0.025) for {'C': 100, 'kernel': 'rbf', 'gamma': 0.0001}\n",
      "0.988 (+/-0.017) for {'C': 1000, 'kernel': 'rbf', 'gamma': 0.001}\n",
      "0.982 (+/-0.025) for {'C': 1000, 'kernel': 'rbf', 'gamma': 0.0001}\n",
      "0.975 (+/-0.014) for {'C': 1, 'kernel': 'linear'}\n",
      "0.975 (+/-0.014) for {'C': 10, 'kernel': 'linear'}\n",
      "0.975 (+/-0.014) for {'C': 100, 'kernel': 'linear'}\n",
      "0.975 (+/-0.014) for {'C': 1000, 'kernel': 'linear'}\n",
      "\n",
      "Detailed classification report: \n",
      "\n",
      "The model is trained on the full dev set.\n",
      "The scores are computed on the full evaluation set.\n",
      "\n",
      "             precision    recall  f1-score   support\n",
      "\n",
      "          0       1.00      1.00      1.00        89\n",
      "          1       0.97      1.00      0.98        90\n",
      "          2       0.99      0.98      0.98        92\n",
      "          3       1.00      0.99      0.99        93\n",
      "          4       1.00      1.00      1.00        76\n",
      "          5       0.99      0.98      0.99       108\n",
      "          6       0.99      1.00      0.99        89\n",
      "          7       0.99      1.00      0.99        78\n",
      "          8       1.00      0.98      0.99        92\n",
      "          9       0.99      0.99      0.99        92\n",
      "\n",
      "avg / total       0.99      0.99      0.99       899\n",
      " \n",
      "\n",
      "#Tuning hyper-parameters for recall\n",
      "\n",
      "Best parameter set found on dev set:\n",
      "{'C': 10, 'kernel': 'rbf', 'gamma': 0.001} \n",
      "\n",
      "Grid scores on dev set: \n",
      "\n",
      "0.986 (+/-0.019) for {'C': 1, 'kernel': 'rbf', 'gamma': 0.001}\n",
      "0.957 (+/-0.029) for {'C': 1, 'kernel': 'rbf', 'gamma': 0.0001}\n",
      "0.987 (+/-0.019) for {'C': 10, 'kernel': 'rbf', 'gamma': 0.001}\n",
      "0.981 (+/-0.028) for {'C': 10, 'kernel': 'rbf', 'gamma': 0.0001}\n",
      "0.987 (+/-0.019) for {'C': 100, 'kernel': 'rbf', 'gamma': 0.001}\n",
      "0.981 (+/-0.026) for {'C': 100, 'kernel': 'rbf', 'gamma': 0.0001}\n",
      "0.987 (+/-0.019) for {'C': 1000, 'kernel': 'rbf', 'gamma': 0.001}\n",
      "0.981 (+/-0.026) for {'C': 1000, 'kernel': 'rbf', 'gamma': 0.0001}\n",
      "0.972 (+/-0.012) for {'C': 1, 'kernel': 'linear'}\n",
      "0.972 (+/-0.012) for {'C': 10, 'kernel': 'linear'}\n",
      "0.972 (+/-0.012) for {'C': 100, 'kernel': 'linear'}\n",
      "0.972 (+/-0.012) for {'C': 1000, 'kernel': 'linear'}\n",
      "\n",
      "Detailed classification report: \n",
      "\n",
      "The model is trained on the full dev set.\n",
      "The scores are computed on the full evaluation set.\n",
      "\n",
      "             precision    recall  f1-score   support\n",
      "\n",
      "          0       1.00      1.00      1.00        89\n",
      "          1       0.97      1.00      0.98        90\n",
      "          2       0.99      0.98      0.98        92\n",
      "          3       1.00      0.99      0.99        93\n",
      "          4       1.00      1.00      1.00        76\n",
      "          5       0.99      0.98      0.99       108\n",
      "          6       0.99      1.00      0.99        89\n",
      "          7       0.99      1.00      0.99        78\n",
      "          8       1.00      0.98      0.99        92\n",
      "          9       0.99      0.99      0.99        92\n",
      "\n",
      "avg / total       0.99      0.99      0.99       899\n",
      " \n",
      "\n"
     ]
    }
   ],
   "source": [
    "for score in scores:\n",
    "    print(\"#Tuning hyper-parameters for {}\\n\".format(score))\n",
    "    \n",
    "    clf = GridSearchCV(SVC(C=1), tuned_parameters, cv=5, scoring='%s_macro' % score)#GridSearchCV(estimator obj, param_grid(dict or list of dicts),scoring )\n",
    "    clf.fit(X_train,y_train)\n",
    "    \n",
    "    print(\"Best parameter set found on dev set:\\n{} \\n\".format(clf.best_params_))\n",
    "    print(\"Grid scores on dev set: \\n\")\n",
    "    means = clf.cv_results_['mean_test_score']\n",
    "    stds = clf.cv_results_['std_test_score']\n",
    "    for mean,std,params in zip(means, stds, clf.cv_results_['params']):\n",
    "        print('%0.3f (+/-%0.03f) for %r'%(mean,std*2, params))\n",
    "    print()\n",
    "    \n",
    "    print('Detailed classification report: \\n')\n",
    "    print('The model is trained on the full dev set.')\n",
    "    print('The scores are computed on the full evaluation set.\\n')\n",
    "    \n",
    "    y_true, y_pred = y_test, clf.predict(X_test)\n",
    "    print(classification_report(y_true, y_pred),'\\n')"
   ]
  },
  {
   "cell_type": "code",
   "execution_count": null,
   "metadata": {
    "collapsed": false
   },
   "outputs": [],
   "source": []
  },
  {
   "cell_type": "code",
   "execution_count": null,
   "metadata": {
    "collapsed": true
   },
   "outputs": [],
   "source": []
  },
  {
   "cell_type": "code",
   "execution_count": null,
   "metadata": {
    "collapsed": true
   },
   "outputs": [],
   "source": []
  },
  {
   "cell_type": "code",
   "execution_count": null,
   "metadata": {
    "collapsed": true
   },
   "outputs": [],
   "source": []
  }
 ],
 "metadata": {
  "kernelspec": {
   "display_name": "Python [Root]",
   "language": "python",
   "name": "Python [Root]"
  },
  "language_info": {
   "codemirror_mode": {
    "name": "ipython",
    "version": 3
   },
   "file_extension": ".py",
   "mimetype": "text/x-python",
   "name": "python",
   "nbconvert_exporter": "python",
   "pygments_lexer": "ipython3",
   "version": "3.5.2"
  }
 },
 "nbformat": 4,
 "nbformat_minor": 0
}

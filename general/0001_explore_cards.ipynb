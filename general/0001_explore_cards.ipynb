{
 "cells": [
  {
   "cell_type": "code",
   "execution_count": 1,
   "metadata": {
    "collapsed": true
   },
   "outputs": [],
   "source": [
    "import collections"
   ]
  },
  {
   "cell_type": "code",
   "execution_count": 2,
   "metadata": {
    "collapsed": true
   },
   "outputs": [],
   "source": [
    "Card = collections.namedtuple('Card', ['rank', 'suit','isup'])"
   ]
  },
  {
   "cell_type": "code",
   "execution_count": 3,
   "metadata": {
    "collapsed": false
   },
   "outputs": [
    {
     "name": "stdout",
     "output_type": "stream",
     "text": [
      "Help on function namedtuple in module collections:\n",
      "\n",
      "namedtuple(typename, field_names, verbose=False, rename=False)\n",
      "    Returns a new subclass of tuple with named fields.\n",
      "    \n",
      "    >>> Point = namedtuple('Point', ['x', 'y'])\n",
      "    >>> Point.__doc__                   # docstring for the new class\n",
      "    'Point(x, y)'\n",
      "    >>> p = Point(11, y=22)             # instantiate with positional args or keywords\n",
      "    >>> p[0] + p[1]                     # indexable like a plain tuple\n",
      "    33\n",
      "    >>> x, y = p                        # unpack like a regular tuple\n",
      "    >>> x, y\n",
      "    (11, 22)\n",
      "    >>> p.x + p.y                       # fields also accessible by name\n",
      "    33\n",
      "    >>> d = p._asdict()                 # convert to a dictionary\n",
      "    >>> d['x']\n",
      "    11\n",
      "    >>> Point(**d)                      # convert from a dictionary\n",
      "    Point(x=11, y=22)\n",
      "    >>> p._replace(x=100)               # _replace() is like str.replace() but targets named fields\n",
      "    Point(x=100, y=22)\n",
      "\n"
     ]
    }
   ],
   "source": [
    "help(collections.namedtuple)\n",
    "#namedtuple is good to build classes of objects that are just bundles of attributes with no methods"
   ]
  },
  {
   "cell_type": "code",
   "execution_count": 4,
   "metadata": {
    "collapsed": false
   },
   "outputs": [
    {
     "data": {
      "text/plain": [
       "type"
      ]
     },
     "execution_count": 4,
     "metadata": {},
     "output_type": "execute_result"
    }
   ],
   "source": [
    "type(Card)"
   ]
  },
  {
   "cell_type": "code",
   "execution_count": 39,
   "metadata": {
    "collapsed": true
   },
   "outputs": [],
   "source": [
    "class FrenchDeck:\n",
    "    #list of card ranks from 2 to A\n",
    "    ranks = [str(n) for n in range(2,11)]+list('JQKA')\n",
    "    #list of suits\n",
    "    suits = 'spades diamonds clubs hearts'.split()\n",
    "    isup = [0,1]#face up? no or yes\n",
    "    \n",
    "    def __init__(self):\n",
    "        self._cards = [Card(rank, suit,0) for suit in self.suits\n",
    "                      for rank in self.ranks]\n",
    "    def __len__(self):\n",
    "        return len(self._cards)\n",
    "    def __getitem__(self, position):\n",
    "        return self._cards[position]\n",
    "    def remove(self,x):\n",
    "        self._cards.remove(x) \n",
    "        print(\"{} removed from {}\".format(x, self))"
   ]
  },
  {
   "cell_type": "code",
   "execution_count": 40,
   "metadata": {
    "collapsed": false
   },
   "outputs": [
    {
     "data": {
      "text/plain": [
       "Card(rank='7', suit='diamonds', isup=0)"
      ]
     },
     "execution_count": 40,
     "metadata": {},
     "output_type": "execute_result"
    }
   ],
   "source": [
    "beer_card = Card('7', 'diamonds',0)\n",
    "beer_card"
   ]
  },
  {
   "cell_type": "code",
   "execution_count": 41,
   "metadata": {
    "collapsed": false
   },
   "outputs": [
    {
     "data": {
      "text/plain": [
       "52"
      ]
     },
     "execution_count": 41,
     "metadata": {},
     "output_type": "execute_result"
    }
   ],
   "source": [
    "deck = FrenchDeck()\n",
    "len(deck)"
   ]
  },
  {
   "cell_type": "code",
   "execution_count": 42,
   "metadata": {
    "collapsed": false
   },
   "outputs": [
    {
     "name": "stdout",
     "output_type": "stream",
     "text": [
      "Card(rank='7', suit='diamonds', isup=0) removed from <__main__.FrenchDeck object at 0x7fc2a81dc668>\n"
     ]
    }
   ],
   "source": [
    "deck.remove(beer_card)"
   ]
  },
  {
   "cell_type": "code",
   "execution_count": 38,
   "metadata": {
    "collapsed": false
   },
   "outputs": [
    {
     "data": {
      "text/plain": [
       "51"
      ]
     },
     "execution_count": 38,
     "metadata": {},
     "output_type": "execute_result"
    }
   ],
   "source": [
    "len(deck)"
   ]
  },
  {
   "cell_type": "code",
   "execution_count": 47,
   "metadata": {
    "collapsed": false
   },
   "outputs": [
    {
     "data": {
      "text/plain": [
       "[Card(rank='2', suit='spades', isup=0),\n",
       " Card(rank='3', suit='spades', isup=0),\n",
       " Card(rank='4', suit='spades', isup=0),\n",
       " Card(rank='5', suit='spades', isup=0),\n",
       " Card(rank='6', suit='spades', isup=0),\n",
       " Card(rank='7', suit='spades', isup=0),\n",
       " Card(rank='8', suit='spades', isup=0),\n",
       " Card(rank='9', suit='spades', isup=0),\n",
       " Card(rank='10', suit='spades', isup=0),\n",
       " Card(rank='J', suit='spades', isup=0),\n",
       " Card(rank='Q', suit='spades', isup=0),\n",
       " Card(rank='K', suit='spades', isup=0),\n",
       " Card(rank='A', suit='spades', isup=0),\n",
       " Card(rank='2', suit='diamonds', isup=0),\n",
       " Card(rank='3', suit='diamonds', isup=0),\n",
       " Card(rank='4', suit='diamonds', isup=0),\n",
       " Card(rank='5', suit='diamonds', isup=0),\n",
       " Card(rank='6', suit='diamonds', isup=0),\n",
       " Card(rank='8', suit='diamonds', isup=0),\n",
       " Card(rank='9', suit='diamonds', isup=0),\n",
       " Card(rank='10', suit='diamonds', isup=0),\n",
       " Card(rank='J', suit='diamonds', isup=0),\n",
       " Card(rank='Q', suit='diamonds', isup=0),\n",
       " Card(rank='K', suit='diamonds', isup=0),\n",
       " Card(rank='A', suit='diamonds', isup=0),\n",
       " Card(rank='2', suit='clubs', isup=0),\n",
       " Card(rank='3', suit='clubs', isup=0),\n",
       " Card(rank='4', suit='clubs', isup=0),\n",
       " Card(rank='5', suit='clubs', isup=0),\n",
       " Card(rank='6', suit='clubs', isup=0),\n",
       " Card(rank='7', suit='clubs', isup=0),\n",
       " Card(rank='8', suit='clubs', isup=0),\n",
       " Card(rank='9', suit='clubs', isup=0),\n",
       " Card(rank='10', suit='clubs', isup=0),\n",
       " Card(rank='J', suit='clubs', isup=0),\n",
       " Card(rank='Q', suit='clubs', isup=0),\n",
       " Card(rank='K', suit='clubs', isup=0),\n",
       " Card(rank='A', suit='clubs', isup=0),\n",
       " Card(rank='2', suit='hearts', isup=0),\n",
       " Card(rank='3', suit='hearts', isup=0),\n",
       " Card(rank='4', suit='hearts', isup=0),\n",
       " Card(rank='5', suit='hearts', isup=0),\n",
       " Card(rank='6', suit='hearts', isup=0),\n",
       " Card(rank='7', suit='hearts', isup=0),\n",
       " Card(rank='8', suit='hearts', isup=0),\n",
       " Card(rank='9', suit='hearts', isup=0),\n",
       " Card(rank='10', suit='hearts', isup=0),\n",
       " Card(rank='J', suit='hearts', isup=0),\n",
       " Card(rank='Q', suit='hearts', isup=0),\n",
       " Card(rank='K', suit='hearts', isup=0),\n",
       " Card(rank='A', suit='hearts', isup=0)]"
      ]
     },
     "execution_count": 47,
     "metadata": {},
     "output_type": "execute_result"
    }
   ],
   "source": [
    "deck._cards#we can see that card is removed"
   ]
  },
  {
   "cell_type": "code",
   "execution_count": null,
   "metadata": {
    "collapsed": true
   },
   "outputs": [],
   "source": []
  },
  {
   "cell_type": "code",
   "execution_count": 8,
   "metadata": {
    "collapsed": false
   },
   "outputs": [
    {
     "name": "stdout",
     "output_type": "stream",
     "text": [
      "first card = Card(rank='2', suit='spades', isup=0), last card = Card(rank='A', suit='hearts', isup=0)\n"
     ]
    }
   ],
   "source": [
    "print(\"first card = {}, last card = {}\".format(deck[0],deck[-1]))"
   ]
  },
  {
   "cell_type": "code",
   "execution_count": 9,
   "metadata": {
    "collapsed": false
   },
   "outputs": [
    {
     "name": "stdout",
     "output_type": "stream",
     "text": [
      "Help on method choice in module random:\n",
      "\n",
      "choice(seq) method of random.Random instance\n",
      "    Choose a random element from a non-empty sequence.\n",
      "\n"
     ]
    },
    {
     "data": {
      "text/plain": [
       "2"
      ]
     },
     "execution_count": 9,
     "metadata": {},
     "output_type": "execute_result"
    }
   ],
   "source": [
    "from random import choice\n",
    "help(choice)\n",
    "#chooses a random element from a non-empty sequence \n",
    "#(works with lists and tuples at least)\n",
    "choice((1,2, 3))"
   ]
  },
  {
   "cell_type": "code",
   "execution_count": 10,
   "metadata": {
    "collapsed": false
   },
   "outputs": [
    {
     "data": {
      "text/plain": [
       "Card(rank='Q', suit='hearts', isup=0)"
      ]
     },
     "execution_count": 10,
     "metadata": {},
     "output_type": "execute_result"
    }
   ],
   "source": [
    "#deck._cards\n",
    "choice(deck)"
   ]
  },
  {
   "cell_type": "code",
   "execution_count": 11,
   "metadata": {
    "collapsed": false
   },
   "outputs": [
    {
     "data": {
      "text/plain": [
       "Card(rank='8', suit='diamonds', isup=0)"
      ]
     },
     "execution_count": 11,
     "metadata": {},
     "output_type": "execute_result"
    }
   ],
   "source": [
    "#didn't have to memorize the method names:\n",
    "choice(deck._cards)"
   ]
  },
  {
   "cell_type": "code",
   "execution_count": 12,
   "metadata": {
    "collapsed": false
   },
   "outputs": [
    {
     "data": {
      "text/plain": [
       "[Card(rank='A', suit='spades', isup=0),\n",
       " Card(rank='A', suit='diamonds', isup=0),\n",
       " Card(rank='A', suit='clubs', isup=0),\n",
       " Card(rank='A', suit='hearts', isup=0)]"
      ]
     },
     "execution_count": 12,
     "metadata": {},
     "output_type": "execute_result"
    }
   ],
   "source": [
    "deck[12::13]#start on index 12, skip 13 at a time"
   ]
  },
  {
   "cell_type": "code",
   "execution_count": 50,
   "metadata": {
    "collapsed": false
   },
   "outputs": [],
   "source": [
    "#for card in reversed(deck):\n",
    "#    print(card)"
   ]
  },
  {
   "cell_type": "code",
   "execution_count": 13,
   "metadata": {
    "collapsed": false
   },
   "outputs": [
    {
     "data": {
      "text/plain": [
       "True"
      ]
     },
     "execution_count": 13,
     "metadata": {},
     "output_type": "execute_result"
    }
   ],
   "source": [
    "Card('Q', 'hearts',0) in deck"
   ]
  },
  {
   "cell_type": "code",
   "execution_count": 17,
   "metadata": {
    "collapsed": false
   },
   "outputs": [
    {
     "data": {
      "text/plain": [
       "False"
      ]
     },
     "execution_count": 17,
     "metadata": {},
     "output_type": "execute_result"
    }
   ],
   "source": [
    "Card('7', 'hearts',1) in deck"
   ]
  },
  {
   "cell_type": "code",
   "execution_count": 18,
   "metadata": {
    "collapsed": true
   },
   "outputs": [],
   "source": [
    "suit_values = dict(spades=3, hearts=2, diamonds = 1, clubs=0)"
   ]
  },
  {
   "cell_type": "code",
   "execution_count": 19,
   "metadata": {
    "collapsed": false
   },
   "outputs": [
    {
     "data": {
      "text/plain": [
       "{'clubs': 0, 'diamonds': 1, 'hearts': 2, 'spades': 3}"
      ]
     },
     "execution_count": 19,
     "metadata": {},
     "output_type": "execute_result"
    }
   ],
   "source": [
    "suit_values"
   ]
  },
  {
   "cell_type": "code",
   "execution_count": 20,
   "metadata": {
    "collapsed": true
   },
   "outputs": [],
   "source": [
    "def spades_high(card):\n",
    "    rank_value = FrenchDeck.ranks.index(card.rank)\n",
    "    return rank_value*len(suit_values) + suit_values[card.suit]"
   ]
  },
  {
   "cell_type": "code",
   "execution_count": null,
   "metadata": {
    "collapsed": false
   },
   "outputs": [],
   "source": []
  },
  {
   "cell_type": "code",
   "execution_count": 22,
   "metadata": {
    "collapsed": false
   },
   "outputs": [
    {
     "name": "stdout",
     "output_type": "stream",
     "text": [
      "Card(rank='2', suit='clubs', isup=0)\n",
      "Card(rank='2', suit='diamonds', isup=0)\n",
      "Card(rank='2', suit='hearts', isup=0)\n",
      "Card(rank='2', suit='spades', isup=0)\n",
      "Card(rank='3', suit='clubs', isup=0)\n",
      "Card(rank='3', suit='diamonds', isup=0)\n",
      "Card(rank='3', suit='hearts', isup=0)\n",
      "Card(rank='3', suit='spades', isup=0)\n",
      "Card(rank='4', suit='clubs', isup=0)\n",
      "Card(rank='4', suit='diamonds', isup=0)\n",
      "Card(rank='4', suit='hearts', isup=0)\n",
      "Card(rank='4', suit='spades', isup=0)\n",
      "Card(rank='5', suit='clubs', isup=0)\n",
      "Card(rank='5', suit='diamonds', isup=0)\n",
      "Card(rank='5', suit='hearts', isup=0)\n",
      "Card(rank='5', suit='spades', isup=0)\n",
      "Card(rank='6', suit='clubs', isup=0)\n",
      "Card(rank='6', suit='diamonds', isup=0)\n",
      "Card(rank='6', suit='hearts', isup=0)\n",
      "Card(rank='6', suit='spades', isup=0)\n",
      "Card(rank='7', suit='clubs', isup=0)\n",
      "Card(rank='7', suit='diamonds', isup=0)\n",
      "Card(rank='7', suit='hearts', isup=0)\n",
      "Card(rank='7', suit='spades', isup=0)\n",
      "Card(rank='8', suit='clubs', isup=0)\n",
      "Card(rank='8', suit='diamonds', isup=0)\n",
      "Card(rank='8', suit='hearts', isup=0)\n",
      "Card(rank='8', suit='spades', isup=0)\n",
      "Card(rank='9', suit='clubs', isup=0)\n",
      "Card(rank='9', suit='diamonds', isup=0)\n",
      "Card(rank='9', suit='hearts', isup=0)\n",
      "Card(rank='9', suit='spades', isup=0)\n",
      "Card(rank='10', suit='clubs', isup=0)\n",
      "Card(rank='10', suit='diamonds', isup=0)\n",
      "Card(rank='10', suit='hearts', isup=0)\n",
      "Card(rank='10', suit='spades', isup=0)\n",
      "Card(rank='J', suit='clubs', isup=0)\n",
      "Card(rank='J', suit='diamonds', isup=0)\n",
      "Card(rank='J', suit='hearts', isup=0)\n",
      "Card(rank='J', suit='spades', isup=0)\n",
      "Card(rank='Q', suit='clubs', isup=0)\n",
      "Card(rank='Q', suit='diamonds', isup=0)\n",
      "Card(rank='Q', suit='hearts', isup=0)\n",
      "Card(rank='Q', suit='spades', isup=0)\n",
      "Card(rank='K', suit='clubs', isup=0)\n",
      "Card(rank='K', suit='diamonds', isup=0)\n",
      "Card(rank='K', suit='hearts', isup=0)\n",
      "Card(rank='K', suit='spades', isup=0)\n",
      "Card(rank='A', suit='clubs', isup=0)\n",
      "Card(rank='A', suit='diamonds', isup=0)\n",
      "Card(rank='A', suit='hearts', isup=0)\n",
      "Card(rank='A', suit='spades', isup=0)\n"
     ]
    }
   ],
   "source": [
    "for card in sorted(deck, key=spades_high):\n",
    "    print(card)"
   ]
  },
  {
   "cell_type": "code",
   "execution_count": 57,
   "metadata": {
    "collapsed": false
   },
   "outputs": [
    {
     "name": "stdout",
     "output_type": "stream",
     "text": [
      "Help on built-in function sorted in module builtins:\n",
      "\n",
      "sorted(iterable, key=None, reverse=False)\n",
      "    Return a new list containing all items from the iterable in ascending order.\n",
      "    \n",
      "    A custom key function can be supplied to customise the sort order, and the\n",
      "    reverse flag can be set to request the result in descending order.\n",
      "\n"
     ]
    }
   ],
   "source": [
    "help(sorted)"
   ]
  },
  {
   "cell_type": "code",
   "execution_count": null,
   "metadata": {
    "collapsed": true
   },
   "outputs": [],
   "source": []
  },
  {
   "cell_type": "code",
   "execution_count": null,
   "metadata": {
    "collapsed": true
   },
   "outputs": [],
   "source": []
  },
  {
   "cell_type": "code",
   "execution_count": null,
   "metadata": {
    "collapsed": true
   },
   "outputs": [],
   "source": []
  },
  {
   "cell_type": "code",
   "execution_count": null,
   "metadata": {
    "collapsed": true
   },
   "outputs": [],
   "source": []
  },
  {
   "cell_type": "code",
   "execution_count": null,
   "metadata": {
    "collapsed": true
   },
   "outputs": [],
   "source": []
  }
 ],
 "metadata": {
  "kernelspec": {
   "display_name": "Python [Root]",
   "language": "python",
   "name": "Python [Root]"
  },
  "language_info": {
   "codemirror_mode": {
    "name": "ipython",
    "version": 3
   },
   "file_extension": ".py",
   "mimetype": "text/x-python",
   "name": "python",
   "nbconvert_exporter": "python",
   "pygments_lexer": "ipython3",
   "version": "3.5.2"
  }
 },
 "nbformat": 4,
 "nbformat_minor": 0
}

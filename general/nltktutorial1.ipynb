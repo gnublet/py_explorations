{
 "cells": [
  {
   "cell_type": "code",
   "execution_count": 1,
   "metadata": {
    "collapsed": false
   },
   "outputs": [
    {
     "name": "stdout",
     "output_type": "stream",
     "text": [
      "*** Introductory Examples for the NLTK Book ***\n",
      "Loading text1, ..., text9 and sent1, ..., sent9\n",
      "Type the name of the text or sentence to view it.\n",
      "Type: 'texts()' or 'sents()' to list the materials.\n",
      "text1: Moby Dick by Herman Melville 1851\n",
      "text2: Sense and Sensibility by Jane Austen 1811\n",
      "text3: The Book of Genesis\n",
      "text4: Inaugural Address Corpus\n",
      "text5: Chat Corpus\n",
      "text6: Monty Python and the Holy Grail\n",
      "text7: Wall Street Journal\n",
      "text8: Personals Corpus\n",
      "text9: The Man Who Was Thursday by G . K . Chesterton 1908\n"
     ]
    }
   ],
   "source": [
    "from nltk.book import *"
   ]
  },
  {
   "cell_type": "code",
   "execution_count": 21,
   "metadata": {
    "collapsed": false
   },
   "outputs": [],
   "source": [
    "#dir(text7)"
   ]
  },
  {
   "cell_type": "code",
   "execution_count": 22,
   "metadata": {
    "collapsed": false
   },
   "outputs": [],
   "source": [
    "#help(text7)"
   ]
  },
  {
   "cell_type": "code",
   "execution_count": 7,
   "metadata": {
    "collapsed": false
   },
   "outputs": [
    {
     "name": "stdout",
     "output_type": "stream",
     "text": [
      "Displaying 6 of 6 matches:\n",
      "tterns , but were n't adjusted for inflation . Kenneth Mayland , economist for \n",
      "conomic slowdown that *T*-49 eases inflation without *-1 leading to a recession\n",
      "lion *U* . After *-1 adjusting for inflation , the Commerce Department said 0 c\n",
      " ' report also added evidence that inflation is under control . For the fifth c\n",
      "4 to fall *T*-3 or during times of inflation . Teikoku Oil , also stimulated * \n",
      " sense of job security , and a low inflation rate has kept the purchasing power\n"
     ]
    }
   ],
   "source": [
    "text7.concordance('inflation')"
   ]
  },
  {
   "cell_type": "code",
   "execution_count": 12,
   "metadata": {
    "collapsed": false
   },
   "outputs": [
    {
     "name": "stdout",
     "output_type": "stream",
     "text": [
      "Displaying 4 of 4 matches:\n",
      "d , and take me some venison ; And make me savoury meat , such as I love , and bring it to me , that I may eat ; that my soul may bless thee\n",
      "ats ; and I will make them savoury meat for thy father , such as he love And thou shalt bring it to thy father , that he may eat , and that \n",
      "ears for Rachel ; and they seemed unto him but a few days , for the love he had to her . And Jacob said unto Laban , Give me my wife , for m\n",
      "LORD hath looked upon my affliction ; now therefore my husband will love me . And she conceived again , and bare a son ; and said , Because \n"
     ]
    }
   ],
   "source": [
    "text3.concordance('love', width = 140)"
   ]
  },
  {
   "cell_type": "code",
   "execution_count": 13,
   "metadata": {
    "collapsed": false
   },
   "outputs": [
    {
     "name": "stdout",
     "output_type": "stream",
     "text": [
      "Displaying 25 of 38 matches:\n",
      "ay when they were created . And Adam lived an hundred and thirty years , and be\n",
      "ughters : And all the days that Adam lived were nine hundred and thirty yea and\n",
      "nd thirty yea and he died . And Seth lived an hundred and five years , and bega\n",
      "ve years , and begat Enos : And Seth lived after he begat Enos eight hundred an\n",
      "welve years : and he died . And Enos lived ninety years , and begat Cainan : An\n",
      " years , and begat Cainan : And Enos lived after he begat Cainan eight hundred \n",
      "ive years : and he died . And Cainan lived seventy years and begat Mahalaleel :\n",
      "rs and begat Mahalaleel : And Cainan lived after he begat Mahalaleel eight hund\n",
      "years : and he died . And Mahalaleel lived sixty and five years , and begat Jar\n",
      "s , and begat Jared : And Mahalaleel lived after he begat Jared eight hundred a\n",
      "and five yea and he died . And Jared lived an hundred sixty and two years , and\n",
      "o years , and he begat Eno And Jared lived after he begat Enoch eight hundred y\n",
      " and two yea and he died . And Enoch lived sixty and five years , and begat Met\n",
      " ; for God took him . And Methuselah lived an hundred eighty and seven years , \n",
      " , and begat Lamech . And Methuselah lived after he begat Lamech seven hundred \n",
      "nd nine yea and he died . And Lamech lived an hundred eighty and two years , an\n",
      "ch the LORD hath cursed . And Lamech lived after he begat Noah five hundred nin\n",
      "naan shall be his servant . And Noah lived after the flood three hundred and fi\n",
      "xad two years after the flo And Shem lived after he begat Arphaxad five hundred\n",
      "at sons and daughters . And Arphaxad lived five and thirty years , and begat Sa\n",
      "ars , and begat Salah : And Arphaxad lived after he begat Salah four hundred an\n",
      "begat sons and daughters . And Salah lived thirty years , and begat Eber : And \n",
      "y years , and begat Eber : And Salah lived after he begat Eber four hundred and\n",
      " begat sons and daughters . And Eber lived four and thirty years , and begat Pe\n",
      "y years , and begat Peleg : And Eber lived after he begat Peleg four hundred an\n"
     ]
    }
   ],
   "source": [
    "text3.concordance('lived')"
   ]
  },
  {
   "cell_type": "code",
   "execution_count": 15,
   "metadata": {
    "collapsed": false
   },
   "outputs": [
    {
     "name": "stdout",
     "output_type": "stream",
     "text": [
      "Displaying 25 of 116 matches:\n",
      "itself has ordained ; and since the preservation of the sacred fire of liberty and the destiny of the republican model of government are justly consi\n",
      "on defense , promote the general welfare , and secure the blessings of liberty . The public disquisitions , discussions , and deliberations issued in\n",
      " same virtues and animated with the same ardent patriotism and love of liberty to independence and peace , to increasing wealth and unexampled prospe\n",
      "in of Justice , and the Protector in all ages of the world of virtuous liberty , continue His blessing upon this nation and its Government and give i\n",
      "restore to social intercourse that harmony and affection without which liberty and even life itself are but dreary things . And let us reflect that ,\n",
      "f infuriated man , seeking through blood and slaughter his long - lost liberty , it was not wonderful that the agitation of the billows should reach \n",
      " retrace our steps and to regain the road which alone leads to peace , liberty , and safety . I repair , then , fellow - citizens , to the post you h\n",
      "with the faculties and the rights of men , breathing an ardent love of liberty and independence , and occupying a country which left them no desire b\n",
      "ties ; and no other definite line can be drawn between the inestimable liberty of the press and its demoralizing licentiousness . If there be still i\n",
      "ly to the public good , that peace be cultivated , civil and religious liberty unassailed , law and order preserved , equality of rights maintained ,\n",
      "the firmest bulwark of republics -- that without standing armies their liberty can never be in danger , nor with large ones safe ; to promote by auth\n",
      "f science and the diffusion of information as the best aliment to true liberty ; to carry on the benevolent plans which have been so meritoriously ap\n",
      "oduce a like accord in all questions touching , however remotely , the liberty , prosperity and happiness of our country will always be the object of\n",
      "on defense , promote the general welfare , and secure the blessings of liberty to the people of this Union in their successive generations . Since th\n",
      "er physical nature has been extended by the invention of our artists . Liberty and law have marched hand in hand . All the purposes of human associat\n",
      "lity , the common defense , the general welfare , and the blessings of liberty -- all have been promoted by the Government under which we have lived \n",
      "l ; as long as it secures to us the rights of person and of property , liberty of conscience and of the press , it will be worth defending ; and so l\n",
      "continued efforts so to administer the Government as to preserve their liberty and promote their happiness . So many events have occurred within the \n",
      " link together the various parts .\" Without union our independence and liberty would never have been achieved ; without union they never can be maint\n",
      "eir victorious legions becoming our lawgivers and judges . The loss of liberty , of all good government , of peace , plenty , and happiness , must in\n",
      "nd that in entering into society \" individuals must give up a share of liberty to preserve the rest ,\" it will be my desire so to discharge my duties\n",
      "timate union effected , domestic tranquillity preserved , and personal liberty secured to the citizen . As was to be expected , however , from the de\n",
      "ll I consent to serve a second term . But if there is danger to public liberty from the acknowledged defects of the Constitution in the want of limit\n",
      "ended and on the preservation of which they relied as the last hope of liberty . Without denying that the result to which they looked with so much ap\n",
      "\" the freedom of the press is the great bulwark of civil and religious liberty \" is one of the most precious legacies which they have left us . We ha\n"
     ]
    }
   ],
   "source": [
    "text4.concordance('liberty', width = 150)"
   ]
  },
  {
   "cell_type": "code",
   "execution_count": 16,
   "metadata": {
    "collapsed": false
   },
   "outputs": [
    {
     "name": "stdout",
     "output_type": "stream",
     "text": [
      "christian vexatious mystifying curious determined abundant untoward\n",
      "exasperate fearless subtly part few mouldy lamentable delightfully\n",
      "uncommon careful reliable maddens singular\n"
     ]
    }
   ],
   "source": [
    "text1.similar('monstrous')"
   ]
  },
  {
   "cell_type": "code",
   "execution_count": 25,
   "metadata": {
    "collapsed": false
   },
   "outputs": [
    {
     "name": "stdout",
     "output_type": "stream",
     "text": [
      "No matches\n"
     ]
    }
   ],
   "source": [
    "text3.similar('value')"
   ]
  },
  {
   "cell_type": "code",
   "execution_count": 24,
   "metadata": {
    "collapsed": false
   },
   "outputs": [
    {
     "name": "stdout",
     "output_type": "stream",
     "text": [
      "bow call cry grandmother expression gush boots possibilities butts\n",
      "soles nearest eye faces marvels compasses halls leaves smell ears\n",
      "baling\n"
     ]
    }
   ],
   "source": [
    "text1.similar('value')"
   ]
  },
  {
   "cell_type": "code",
   "execution_count": 26,
   "metadata": {
    "collapsed": false
   },
   "outputs": [
    {
     "name": "stdout",
     "output_type": "stream",
     "text": [
      "amount deaths rate department philosophy text pretext beheading church\n",
      "language sound status bottom society exclusion sale inverse risk brunt\n",
      "unit\n"
     ]
    }
   ],
   "source": [
    "text7.similar('value')"
   ]
  },
  {
   "cell_type": "code",
   "execution_count": 27,
   "metadata": {
    "collapsed": false
   },
   "outputs": [
    {
     "name": "stdout",
     "output_type": "stream",
     "text": [
      "be_glad is_pretty a_pretty am_glad a_lucky\n"
     ]
    }
   ],
   "source": [
    "text2.common_contexts(['monstrous', 'very'])"
   ]
  },
  {
   "cell_type": "code",
   "execution_count": 30,
   "metadata": {
    "collapsed": false
   },
   "outputs": [
    {
     "name": "stdout",
     "output_type": "stream",
     "text": [
      "of_and with_and the_which the_of\n"
     ]
    }
   ],
   "source": [
    "text3.common_contexts(['God', 'men'])"
   ]
  },
  {
   "cell_type": "code",
   "execution_count": 31,
   "metadata": {
    "collapsed": false
   },
   "outputs": [
    {
     "name": "stdout",
     "output_type": "stream",
     "text": [
      "Help on method common_contexts in module nltk.text:\n",
      "\n",
      "common_contexts(words, num=20) method of nltk.text.Text instance\n",
      "    Find contexts where the specified words appear; list\n",
      "    most frequent common contexts first.\n",
      "    \n",
      "    :param word: The word used to seed the similarity search\n",
      "    :type word: str\n",
      "    :param num: The number of words to generate (default=20)\n",
      "    :type num: int\n",
      "    :seealso: ContextIndex.common_contexts()\n",
      "\n"
     ]
    }
   ],
   "source": [
    "help(text3.common_contexts)"
   ]
  },
  {
   "cell_type": "code",
   "execution_count": 38,
   "metadata": {
    "collapsed": true
   },
   "outputs": [],
   "source": [
    "text3.dispersion_plot(['God', 'woman', 'women', 'man', 'men', 'person', 'people', 'servant'])"
   ]
  },
  {
   "cell_type": "code",
   "execution_count": 44,
   "metadata": {
    "collapsed": false
   },
   "outputs": [
    {
     "name": "stdout",
     "output_type": "stream",
     "text": [
      "len(text) = 44764,\n",
      "len(set(text3)) = 2789\n"
     ]
    }
   ],
   "source": [
    "#tokens vs distinct word types (words including punctuation)\n",
    "print('len(text) = {},\\nlen(set(text3)) = {}'.format(len(text3), len(set(text3))))"
   ]
  },
  {
   "cell_type": "code",
   "execution_count": null,
   "metadata": {
    "collapsed": true
   },
   "outputs": [],
   "source": [
    "#lexical richness\n",
    "lexical_richness = len(set(text3))/len(text3)"
   ]
  },
  {
   "cell_type": "code",
   "execution_count": 45,
   "metadata": {
    "collapsed": false
   },
   "outputs": [
    {
     "data": {
      "text/plain": [
       "231"
      ]
     },
     "execution_count": 45,
     "metadata": {},
     "output_type": "execute_result"
    }
   ],
   "source": [
    "text3.count('God')"
   ]
  },
  {
   "cell_type": "code",
   "execution_count": 51,
   "metadata": {
    "collapsed": false
   },
   "outputs": [
    {
     "data": {
      "text/plain": [
       "0.5160396747386292"
      ]
     },
     "execution_count": 51,
     "metadata": {},
     "output_type": "execute_result"
    }
   ],
   "source": [
    "#percent of text taken up by this word\n",
    "def text_percent(text, word):\n",
    "    return 100*text.count(word)/len(text)\n",
    "\n",
    "text_percent(text3, 'God')"
   ]
  },
  {
   "cell_type": "code",
   "execution_count": 52,
   "metadata": {
    "collapsed": false
   },
   "outputs": [
    {
     "data": {
      "text/plain": [
       "1.5640968673628082"
      ]
     },
     "execution_count": 52,
     "metadata": {},
     "output_type": "execute_result"
    }
   ],
   "source": [
    "text_percent(text5, 'lol')"
   ]
  },
  {
   "cell_type": "code",
   "execution_count": 54,
   "metadata": {
    "collapsed": false
   },
   "outputs": [
    {
     "data": {
      "text/plain": [
       "0.09775605421017551"
      ]
     },
     "execution_count": 54,
     "metadata": {},
     "output_type": "execute_result"
    }
   ],
   "source": [
    "text_percent(text5, 'haha')"
   ]
  },
  {
   "cell_type": "code",
   "execution_count": 57,
   "metadata": {
    "collapsed": false
   },
   "outputs": [
    {
     "data": {
      "text/plain": [
       "1.213063763608087"
      ]
     },
     "execution_count": 57,
     "metadata": {},
     "output_type": "execute_result"
    }
   ],
   "source": [
    "text_percent(text5, 'hi')"
   ]
  },
  {
   "cell_type": "code",
   "execution_count": null,
   "metadata": {
    "collapsed": true
   },
   "outputs": [],
   "source": []
  },
  {
   "cell_type": "code",
   "execution_count": null,
   "metadata": {
    "collapsed": true
   },
   "outputs": [],
   "source": []
  },
  {
   "cell_type": "code",
   "execution_count": null,
   "metadata": {
    "collapsed": true
   },
   "outputs": [],
   "source": []
  },
  {
   "cell_type": "code",
   "execution_count": null,
   "metadata": {
    "collapsed": true
   },
   "outputs": [],
   "source": []
  },
  {
   "cell_type": "code",
   "execution_count": null,
   "metadata": {
    "collapsed": true
   },
   "outputs": [],
   "source": []
  },
  {
   "cell_type": "code",
   "execution_count": null,
   "metadata": {
    "collapsed": true
   },
   "outputs": [],
   "source": []
  },
  {
   "cell_type": "code",
   "execution_count": null,
   "metadata": {
    "collapsed": true
   },
   "outputs": [],
   "source": []
  },
  {
   "cell_type": "code",
   "execution_count": null,
   "metadata": {
    "collapsed": true
   },
   "outputs": [],
   "source": []
  }
 ],
 "metadata": {
  "anaconda-cloud": {},
  "kernelspec": {
   "display_name": "Python [Root]",
   "language": "python",
   "name": "Python [Root]"
  },
  "language_info": {
   "codemirror_mode": {
    "name": "ipython",
    "version": 3
   },
   "file_extension": ".py",
   "mimetype": "text/x-python",
   "name": "python",
   "nbconvert_exporter": "python",
   "pygments_lexer": "ipython3",
   "version": "3.5.2"
  }
 },
 "nbformat": 4,
 "nbformat_minor": 0
}

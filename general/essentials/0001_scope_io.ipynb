{
 "cells": [
  {
   "cell_type": "code",
   "execution_count": 1,
   "metadata": {
    "collapsed": false
   },
   "outputs": [
    {
     "name": "stdout",
     "output_type": "stream",
     "text": [
      "Hi\n"
     ]
    }
   ],
   "source": [
    "print    (\"Hi\") #you can have spaces after print...didn't know that"
   ]
  },
  {
   "cell_type": "code",
   "execution_count": 2,
   "metadata": {
    "collapsed": false
   },
   "outputs": [],
   "source": [
    "#raise SystemExit"
   ]
  },
  {
   "cell_type": "code",
   "execution_count": 3,
   "metadata": {
    "collapsed": false,
    "scrolled": false
   },
   "outputs": [
    {
     "name": "stdout",
     "output_type": "stream",
     "text": [
      "year principal\n",
      "  1 1050.00\n",
      "  2 1102.50\n",
      "  3 1157.62\n",
      "  4 1215.51\n",
      "  5 1276.28\n"
     ]
    }
   ],
   "source": [
    "principal = 1000\n",
    "rate = .05\n",
    "numyears = 5\n",
    "year = 1\n",
    "print(\"year\", \"principal\")\n",
    "#I put this in a function since I don't want to change the values\n",
    "#rather than working with global variables, fun uses local ones.\n",
    "def fun(principal, rate, numyears, year):\n",
    "    while year <= numyears:\n",
    "        #principal = principal*(1+rate)\n",
    "        #print(year, principal)\n",
    "        principal*=1+rate#c++ style also works\n",
    "        #3d integer right aligned in column of width 3\n",
    "        #0.2f float with 2 digits after decimal point\n",
    "        #print(\"%3d %0.2f\" % (year, principal))\n",
    "    \n",
    "        #a more modern way uses the format() function\n",
    "        #print(format(year,\"3d\"), format(principal,\"0.2f\"))\n",
    "\n",
    "        #strings also have a format method.\n",
    "        #{argument passed to format() method, format specifier}\n",
    "        print(\"{0:3d} {1:0.2f}\".format(year,principal))\n",
    "        year += 1\n",
    "fun(principal,rate,numyears,year)"
   ]
  },
  {
   "cell_type": "code",
   "execution_count": 4,
   "metadata": {
    "collapsed": false
   },
   "outputs": [
    {
     "name": "stdout",
     "output_type": "stream",
     "text": [
      "1000 0.05 5 1\n"
     ]
    }
   ],
   "source": [
    "print(principal, rate, numyears, year)"
   ]
  },
  {
   "cell_type": "code",
   "execution_count": 5,
   "metadata": {
    "collapsed": false
   },
   "outputs": [
    {
     "name": "stdout",
     "output_type": "stream",
     "text": [
      "2\n",
      "4\n",
      "8\n",
      "16\n",
      "32\n",
      "64\n",
      "128\n",
      "256\n",
      "512\n",
      "1024\n"
     ]
    }
   ],
   "source": [
    "#just want to see if python can do *= like c++\n",
    "a = 1\n",
    "for i in range(1,11):\n",
    "    a *=2\n",
    "    print(a)"
   ]
  },
  {
   "cell_type": "code",
   "execution_count": 6,
   "metadata": {
    "collapsed": false
   },
   "outputs": [
    {
     "name": "stdout",
     "output_type": "stream",
     "text": [
      "Random expressions\n",
      "Awesome if they had structure\n",
      "Always wandering\n"
     ]
    }
   ],
   "source": [
    "#file input/output\n",
    "#read from file\n",
    "for line in open('foo.txt'):\n",
    "    print(line, end = \"\")\n",
    "    #added end argument to get rid of spaces after each line\n"
   ]
  },
  {
   "cell_type": "code",
   "execution_count": 8,
   "metadata": {
    "collapsed": false
   },
   "outputs": [],
   "source": [
    "#output to file\n",
    "f = open(\"out.txt\", 'w'),#open file for writing\n",
    "while year<= numyears:\n",
    "    principal*=1+rate\n",
    "    print(\"{0:3d} {1:0.2f}\".format(year,principal),file = f)\n",
    "    #f.write(\"%3d %0.2f\\n\" % (year, principal)) is equivalent\n",
    "    year+=1"
   ]
  },
  {
   "cell_type": "code",
   "execution_count": 11,
   "metadata": {
    "collapsed": false
   },
   "outputs": [
    {
     "name": "stdout",
     "output_type": "stream",
     "text": [
      "enter your name: kevin\n"
     ]
    }
   ],
   "source": [
    "#read user input\n",
    "#import sys\n",
    "#dir(sys)\n",
    "#sys.stdout.write(\"Enter your name: \")\n",
    "#name = sys.stdin.readline()#this doesn't work?\n",
    "name = input(\"enter your name: \")"
   ]
  },
  {
   "cell_type": "code",
   "execution_count": null,
   "metadata": {
    "collapsed": true
   },
   "outputs": [],
   "source": []
  },
  {
   "cell_type": "code",
   "execution_count": null,
   "metadata": {
    "collapsed": true
   },
   "outputs": [],
   "source": []
  },
  {
   "cell_type": "code",
   "execution_count": null,
   "metadata": {
    "collapsed": true
   },
   "outputs": [],
   "source": []
  },
  {
   "cell_type": "code",
   "execution_count": null,
   "metadata": {
    "collapsed": true
   },
   "outputs": [],
   "source": []
  },
  {
   "cell_type": "code",
   "execution_count": null,
   "metadata": {
    "collapsed": true
   },
   "outputs": [],
   "source": []
  },
  {
   "cell_type": "code",
   "execution_count": null,
   "metadata": {
    "collapsed": true
   },
   "outputs": [],
   "source": []
  },
  {
   "cell_type": "code",
   "execution_count": null,
   "metadata": {
    "collapsed": true
   },
   "outputs": [],
   "source": []
  },
  {
   "cell_type": "code",
   "execution_count": null,
   "metadata": {
    "collapsed": true
   },
   "outputs": [],
   "source": []
  },
  {
   "cell_type": "code",
   "execution_count": null,
   "metadata": {
    "collapsed": true
   },
   "outputs": [],
   "source": []
  }
 ],
 "metadata": {
  "anaconda-cloud": {},
  "kernelspec": {
   "display_name": "Python [Root]",
   "language": "python",
   "name": "Python [Root]"
  },
  "language_info": {
   "codemirror_mode": {
    "name": "ipython",
    "version": 3
   },
   "file_extension": ".py",
   "mimetype": "text/x-python",
   "name": "python",
   "nbconvert_exporter": "python",
   "pygments_lexer": "ipython3",
   "version": "3.5.2"
  }
 },
 "nbformat": 4,
 "nbformat_minor": 0
}

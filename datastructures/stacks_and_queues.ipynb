{
 "cells": [
  {
   "cell_type": "code",
   "execution_count": 23,
   "metadata": {
    "collapsed": false
   },
   "outputs": [
    {
     "data": {
      "text/plain": [
       "[4, 5, 7]"
      ]
     },
     "execution_count": 23,
     "metadata": {},
     "output_type": "execute_result"
    }
   ],
   "source": [
    "#stacks using lists\n",
    "mylist = [1,4,5,6]\n",
    "mylist.append(8)\n",
    "mylist.pop()\n",
    "mylist.pop()\n",
    "mylist\n",
    "\n",
    "mylist2 = [4,5,6,7]\n",
    "mylist2.pop(2)\n",
    "mylist2"
   ]
  },
  {
   "cell_type": "code",
   "execution_count": 19,
   "metadata": {
    "collapsed": false
   },
   "outputs": [
    {
     "data": {
      "text/plain": [
       "deque([1, 5])"
      ]
     },
     "execution_count": 19,
     "metadata": {},
     "output_type": "execute_result"
    }
   ],
   "source": [
    "#queues\n",
    "#fast appends and pops from both sides \n",
    "from collections import deque \n",
    "myq = deque([1, 2, 5])\n",
    "myq.append('a')\n",
    "myq.appendleft('b')\n",
    "myq.popleft()\n",
    "myq.pop()\n",
    "myq.remove(2)\n",
    "myq\n",
    "\n",
    "#other implementations:\n",
    "#simple circular array, dynamic ciruclar array, linked list"
   ]
  },
  {
   "cell_type": "code",
   "execution_count": 20,
   "metadata": {
    "collapsed": false
   },
   "outputs": [],
   "source": [
    "#help(deque)"
   ]
  },
  {
   "cell_type": "code",
   "execution_count": 33,
   "metadata": {
    "collapsed": true
   },
   "outputs": [],
   "source": [
    "#simple circular array implementation\n",
    "class Queue(object):\n",
    "    def __init__(self, limit=5):\n",
    "        self.que=[]\n",
    "        self.limit = limit\n",
    "        self.front = None\n",
    "        self.rear = None\n",
    "        self.size = 0\n",
    "    def isEmpty(self):\n",
    "        return self.size<=0\n",
    "    def enQueue(self, item):#insert element at end of queue\n",
    "        if self.size>=self.limit:\n",
    "            print(\"Queue Overflow!\")\n",
    "            return\n",
    "        else:\n",
    "            self.que.append(item)\n",
    "            \n",
    "        if self.front is None:\n",
    "            self.front = self.rear = 0\n",
    "        else:\n",
    "            self.rear = self.size\n",
    "        self.size+=1\n",
    "        print('Queue after enQueue', self.que)\n",
    "        \n",
    "    def deQueue(self):#remove and return element at front of que\n",
    "        if self.size<=0:\n",
    "            print('Queue Underflow!')\n",
    "            return 0\n",
    "        else:\n",
    "            self.que.pop(0)#pops index 0\n",
    "            self.size-=1\n",
    "            if self.size == 0:\n",
    "                self.front = self.rear = None\n",
    "            else:\n",
    "                self.rear = self.size - 1\n",
    "            print('Queue after deQueue', self.que)\n",
    "                \n",
    "    def queueRear(self):\n",
    "        if self.rear is None:\n",
    "            print('Sorry, queue is empty')\n",
    "            raise IndexError\n",
    "        return self.que[self.rear]\n",
    "    \n",
    "    def queueFront(self):\n",
    "        if self.front is None:\n",
    "            print('Sorry, queue is empty')\n",
    "            raise IndexError\n",
    "        return self.que[self.front]\n",
    "            \n",
    "    def size(self):\n",
    "        return self.size\n",
    "    "
   ]
  },
  {
   "cell_type": "code",
   "execution_count": 34,
   "metadata": {
    "collapsed": false
   },
   "outputs": [
    {
     "name": "stdout",
     "output_type": "stream",
     "text": [
      "Queue after enQueue ['first']\n",
      "Front  first\n",
      "Rear  first\n",
      "Queue after enQueue ['first', 'second']\n",
      "Front  first\n",
      "Rear  second\n",
      "Queue after enQueue ['first', 'second', 'third']\n",
      "Front  first\n",
      "Rear  third\n",
      "Queue after deQueue ['second', 'third']\n",
      "Front  second\n",
      "Rear  third\n"
     ]
    }
   ],
   "source": [
    "q = Queue()\n",
    "q.enQueue('first')\n",
    "print('Front ', q.queueFront())\n",
    "print('Rear ', q.queueRear())\n",
    "\n",
    "q.enQueue('second')\n",
    "print('Front ', q.queueFront())\n",
    "print('Rear ', q.queueRear())\n",
    "\n",
    "q.enQueue('third')\n",
    "print('Front ', q.queueFront())\n",
    "print('Rear ', q.queueRear())\n",
    "\n",
    "q.deQueue()#removes from front\n",
    "print('Front ', q.queueFront())\n",
    "print('Rear ', q.queueRear())"
   ]
  }
 ],
 "metadata": {
  "anaconda-cloud": {},
  "kernelspec": {
   "display_name": "Python [Root]",
   "language": "python",
   "name": "Python [Root]"
  },
  "language_info": {
   "codemirror_mode": {
    "name": "ipython",
    "version": 3
   },
   "file_extension": ".py",
   "mimetype": "text/x-python",
   "name": "python",
   "nbconvert_exporter": "python",
   "pygments_lexer": "ipython3",
   "version": "3.5.2"
  }
 },
 "nbformat": 4,
 "nbformat_minor": 0
}

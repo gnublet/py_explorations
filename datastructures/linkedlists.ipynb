{
 "cells": [
  {
   "cell_type": "code",
   "execution_count": 13,
   "metadata": {
    "collapsed": false
   },
   "outputs": [
    {
     "data": {
      "text/plain": [
       "'A linked list is a data structure with elements connected by pointers.\\nThey can change size and allocated memory as the list grows.\\nArrays have an advantage in taking O(1)(constant time) to access elements where linked lists are O(n).\\nLinked lists also waste some space O(n) to store pointers\\nLinked lists have the advantage in being able to change size in constant time where arrays are O(n) if non-full\\n'"
      ]
     },
     "execution_count": 13,
     "metadata": {},
     "output_type": "execute_result"
    }
   ],
   "source": [
    "\"\"\"A linked list is a data structure with elements connected by pointers.\n",
    "They can change size and allocated memory as the list grows.\n",
    "Arrays have an advantage in taking O(1)(constant time) to access elements where linked lists are O(n).\n",
    "Linked lists also waste some space O(n) to store pointers\n",
    "Linked lists have the advantage in being able to change size in constant time where arrays are O(n) if non-full\n",
    "\"\"\""
   ]
  },
  {
   "cell_type": "code",
   "execution_count": 98,
   "metadata": {
    "collapsed": true
   },
   "outputs": [],
   "source": [
    "#linked list of integers\n",
    "\n",
    "#NODE of the singly linked list\n",
    "class Node:\n",
    "    #constructor\n",
    "    def __init__(self, data=None, next=None):\n",
    "        self.data = data\n",
    "        self.next = next\n",
    "    #method to set data of node\n",
    "    def setData(self, data):\n",
    "        self.data = data\n",
    "    #method to get data from node\n",
    "    def getData(self):\n",
    "        return self.data\n",
    "    #set next field\n",
    "    def setNext(self,next):\n",
    "        self.next = next\n",
    "    #get next field of node\n",
    "    def getNext(self):\n",
    "        return self.next\n",
    "    #return true if node points to something\n",
    "    def hasNext(self):\n",
    "        return(self.next != None)"
   ]
  },
  {
   "cell_type": "code",
   "execution_count": 99,
   "metadata": {
    "collapsed": true
   },
   "outputs": [],
   "source": [
    "#the LINKED LIST\n",
    "#want at least insert, size, search, delete\n",
    "class LinkedList:\n",
    "    #initialize list with no nodes or head\n",
    "    def __init__(self, head=None):\n",
    "        self.head = head#head node\n",
    "        self.length = 0\n",
    "    def size(self): #O(N) since we visit each node\n",
    "        current = self.head\n",
    "        count = 0\n",
    "        while current!=None:\n",
    "            count += 1\n",
    "            current = current.getNext()\n",
    "        return current\n",
    "    def insert(self,data):#at front O(1)\n",
    "        new_node = Node()\n",
    "        new_node.setData(data)\n",
    "        if self.length==0:\n",
    "            self.head = new_node\n",
    "        else:\n",
    "            new_node.setNext(self.head)\n",
    "            self.head = new_node\n",
    "        self.length+=1\n",
    "    def search(self, data):\n",
    "        current = self.head\n",
    "        found = False\n",
    "        while (current is not None) and(found is False):\n",
    "            if current.getData() == data:\n",
    "                found = True\n",
    "            else:\n",
    "                current = current.getNext()\n",
    "        if current is None:\n",
    "            print(\"Value is not present\")\n",
    "        return current\n",
    "    def delete(self, data):\n",
    "        current = self.head\n",
    "        previous = None\n",
    "        found = False\n",
    "        while (current is not None) and (found is False):\n",
    "            if current.getData() == data:\n",
    "                found = True\n",
    "                self.length-=1\n",
    "            else:\n",
    "                previous = current\n",
    "                current = current.getNext()\n",
    "        if current is None:\n",
    "            print(\"Value is not present\")\n",
    "        if previous is None:\n",
    "            self.head = current.getNext()\n",
    "        else:\n",
    "            previous.setNext(current.getNext())\n",
    "                "
   ]
  },
  {
   "cell_type": "code",
   "execution_count": 100,
   "metadata": {
    "collapsed": false
   },
   "outputs": [],
   "source": [
    "#play with an example\n",
    "mll = LinkedList()"
   ]
  },
  {
   "cell_type": "code",
   "execution_count": 101,
   "metadata": {
    "collapsed": false
   },
   "outputs": [
    {
     "data": {
      "text/plain": [
       "__main__.LinkedList"
      ]
     },
     "execution_count": 101,
     "metadata": {},
     "output_type": "execute_result"
    }
   ],
   "source": [
    "type(mll)"
   ]
  },
  {
   "cell_type": "code",
   "execution_count": 102,
   "metadata": {
    "collapsed": true
   },
   "outputs": [],
   "source": [
    "mll.insert(1)"
   ]
  },
  {
   "cell_type": "code",
   "execution_count": 103,
   "metadata": {
    "collapsed": true
   },
   "outputs": [],
   "source": [
    "mll.insert(2)"
   ]
  },
  {
   "cell_type": "code",
   "execution_count": 104,
   "metadata": {
    "collapsed": false
   },
   "outputs": [
    {
     "data": {
      "text/plain": [
       "2"
      ]
     },
     "execution_count": 104,
     "metadata": {},
     "output_type": "execute_result"
    }
   ],
   "source": [
    "mll.search(2).getData()"
   ]
  },
  {
   "cell_type": "code",
   "execution_count": 105,
   "metadata": {
    "collapsed": true
   },
   "outputs": [],
   "source": [
    "mll.insert(3)"
   ]
  },
  {
   "cell_type": "code",
   "execution_count": 106,
   "metadata": {
    "collapsed": true
   },
   "outputs": [],
   "source": [
    "mll.delete(2)"
   ]
  },
  {
   "cell_type": "code",
   "execution_count": 107,
   "metadata": {
    "collapsed": false
   },
   "outputs": [
    {
     "name": "stdout",
     "output_type": "stream",
     "text": [
      "Value is not present\n"
     ]
    }
   ],
   "source": [
    "mll.search(2)"
   ]
  },
  {
   "cell_type": "code",
   "execution_count": 108,
   "metadata": {
    "collapsed": false
   },
   "outputs": [
    {
     "data": {
      "text/plain": [
       "2"
      ]
     },
     "execution_count": 108,
     "metadata": {},
     "output_type": "execute_result"
    }
   ],
   "source": [
    "mll.length"
   ]
  },
  {
   "cell_type": "code",
   "execution_count": 109,
   "metadata": {
    "collapsed": true
   },
   "outputs": [],
   "source": [
    "mll.insert(4)"
   ]
  },
  {
   "cell_type": "code",
   "execution_count": 110,
   "metadata": {
    "collapsed": false
   },
   "outputs": [
    {
     "data": {
      "text/plain": [
       "3"
      ]
     },
     "execution_count": 110,
     "metadata": {},
     "output_type": "execute_result"
    }
   ],
   "source": [
    "mll.length"
   ]
  },
  {
   "cell_type": "code",
   "execution_count": 113,
   "metadata": {
    "collapsed": false
   },
   "outputs": [
    {
     "data": {
      "text/plain": [
       "4"
      ]
     },
     "execution_count": 113,
     "metadata": {},
     "output_type": "execute_result"
    }
   ],
   "source": [
    "mll.search(4).getData()"
   ]
  },
  {
   "cell_type": "code",
   "execution_count": null,
   "metadata": {
    "collapsed": true
   },
   "outputs": [],
   "source": []
  },
  {
   "cell_type": "code",
   "execution_count": null,
   "metadata": {
    "collapsed": true
   },
   "outputs": [],
   "source": []
  }
 ],
 "metadata": {
  "kernelspec": {
   "display_name": "Python [Root]",
   "language": "python",
   "name": "Python [Root]"
  },
  "language_info": {
   "codemirror_mode": {
    "name": "ipython",
    "version": 3
   },
   "file_extension": ".py",
   "mimetype": "text/x-python",
   "name": "python",
   "nbconvert_exporter": "python",
   "pygments_lexer": "ipython3",
   "version": "3.5.2"
  }
 },
 "nbformat": 4,
 "nbformat_minor": 0
}
